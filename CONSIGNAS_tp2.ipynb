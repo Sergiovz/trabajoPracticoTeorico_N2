{
 "cells": [
  {
   "cell_type": "markdown",
   "metadata": {},
   "source": [
    "# Criterios de evaluación.\n",
    "\n",
    "* Se deben utilizar nombres de variables descriptivos y claros.\n",
    "* Cada ejercicio debe ser realizado utilizando **FUNCIONES**, NO solo codigo suelto.\n",
    "* Comentarios claros y concisos que expliquen el propósito de cada sección del código.\n",
    "* Entrega en tiempo y forma.\n",
    "* Todo el código desarrollado debe ser subido a un repositorio en GitHub.\n",
    "\n",
    "\n",
    "**Aclaración: Para resolver las actividades se debe incertar casillas de codigo entre cada actividad del cuaderno de Jupyter**"
   ]
  },
  {
   "cell_type": "markdown",
   "metadata": {},
   "source": [
    "### 1. **Bucles**\n",
    "\n",
    "   - **Actividad 1.1**: Escribir un programa que muestre el print de todo lo que el usuario introduzca hasta que el usuario escriba “salir” que terminará.\n",
    "   \n",
    "   - **Actividad 1.2**: Escribir un programa que pida al usuario un número entero y muestre por pantalla un triángulo rectángulo como el de más abajo con la cantidad de escalones indicados previamente (los numeros dentro del triangulo deben ser enteros aleatorios del 0 al 9).\n",
    "* 1\n",
    "* 3 1\n",
    "* 5 3 1\n",
    "* 7 5 3 1\n",
    "* 9 7 5 3 1"
   ]
  },
  {
   "cell_type": "code",
   "execution_count": 10,
   "metadata": {},
   "outputs": [
    {
     "name": "stdout",
     "output_type": "stream",
     "text": [
      "Introduce texto (escribe 'salir' para terminar): \n",
      "Hola\n",
      "123\n",
      "abc\n",
      "Fin del programa\n"
     ]
    }
   ],
   "source": [
    "\n",
    "# todo: Resolución\n",
    "# ! 1\n",
    "# creo una función\n",
    "def usuario():\n",
    "    print(\"Introduce texto (escribe 'salir' para terminar): \")\n",
    "    \n",
    "    while True:\n",
    "        entrada = input(\"> \")\n",
    "        \n",
    "        if entrada.lower() == \"salir\":\n",
    "            print(\"Fin del programa\")\n",
    "            break\n",
    "        else:\n",
    "            print(entrada)\n",
    "\n",
    "# ejecuto la función\n",
    "usuario()"
   ]
  },
  {
   "cell_type": "code",
   "execution_count": 15,
   "metadata": {},
   "outputs": [
    {
     "name": "stdout",
     "output_type": "stream",
     "text": [
      "3\n",
      "4 1\n",
      "0 2 1\n",
      "6 0 7 0\n",
      "1 6 5 5 7\n",
      "8 1 3 4 4 0\n",
      "0 6 8 2 4 3 5\n",
      "9 5 6 5 0 8 5 3\n",
      "4 1 8 9 8 7 5 1 6\n"
     ]
    }
   ],
   "source": [
    "\n",
    "# todo: resolución\n",
    "\n",
    "# ! 2\n",
    "import random\n",
    "# Creo una función\n",
    "def triangulo_rectangulo():\n",
    "    try:\n",
    "        # pido al usuario un número entero\n",
    "        escalones = int(input(\"Introduce un número entero para los escalones del triángulo: \"))\n",
    "        \n",
    "        # reviso que el número sea positivo\n",
    "        if escalones <= 0:\n",
    "            print(\"Por favor, introduce un número entero positivo.\")\n",
    "            return\n",
    "            \n",
    "        for i in range(1, escalones + 1):\n",
    "            fila = []\n",
    "            # creo i números aleatorios entre 0 y 9\n",
    "            for j in range(i):\n",
    "                fila.append(str(random.randint(0, 9)))\n",
    "            \n",
    "            # muestro la fila con el formato requerido\n",
    "            print(\" \".join(fila))\n",
    "            \n",
    "    except ValueError:\n",
    "        print(\"Error: Debes introducir un número entero válido.\")\n",
    "\n",
    "# Ejecuto la función\n",
    "triangulo_rectangulo()"
   ]
  },
  {
   "cell_type": "markdown",
   "metadata": {},
   "source": [
    "### 2. **Listas y Tuplas**\n",
    "\n",
    "   - **Actividad 1**: Escribir un programa que pida al usuario una frase y muestre por pantalla el número de veces que contiene cada vocal y la cantidad de espacios en blanco.\n",
    "\n",
    "   - **Actividad 2**: Escribir un programa que cree una matriz (con numeros aleatorios del 1 al 100) usando las dimensiones de X e Y que el usuario deberia ingresar por consola, luego crea una tupla con la matriz transpuesta y por ultimo las muestra ambas por consola .\n",
    "\n",
    "   - **Actividad 3**: Escribir un programa que almacene en una lista los siguientes precios, 50, 75, 46, 22, 80, 65, 8, y muestre por pantalla el menor y el mayor de los precios"
   ]
  },
  {
   "cell_type": "code",
   "execution_count": 4,
   "metadata": {},
   "outputs": [
    {
     "name": "stdout",
     "output_type": "stream",
     "text": [
      "Cantidad de cada vocal:\n",
      "a: 0\n",
      "e: 1\n",
      "i: 0\n",
      "o: 2\n",
      "u: 0\n",
      "Cantidad de espacios en blanco: 1\n",
      "Frase Ingresada: hello world\n"
     ]
    }
   ],
   "source": [
    "\n",
    "# todo: Resolución\n",
    "\n",
    "# ! 1\n",
    "\n",
    "def contar_vocales_espacios():\n",
    "    # Pido al usuario una frase\n",
    "    frase = input(\"Escribe una frase: \")\n",
    "    \n",
    "    # Inicio contadores\n",
    "    vocales = {'a': 0, 'e': 0, 'i': 0, 'o': 0, 'u': 0}\n",
    "    espacios_en_blanco = 0\n",
    "    \n",
    "    # Paso a minusculas la frase\n",
    "    frase = frase.lower()\n",
    "    \n",
    "    # Contar las vocales y espacios en blanco\n",
    "    for caracter in frase:\n",
    "        if caracter in vocales:\n",
    "            vocales[caracter] += 1\n",
    "        elif caracter == ' ':\n",
    "            espacios_en_blanco += 1\n",
    "    \n",
    "    # Mostrar resultados\n",
    "    print(\"Cantidad de cada vocal:\")\n",
    "    for vocal, cantidad in vocales.items():\n",
    "        print(f\"{vocal}: {cantidad}\")\n",
    "    \n",
    "    print(f\"Cantidad de espacios en blanco: {espacios_en_blanco}\")\n",
    "    print(f\"Frase Ingresada: {frase}\")\n",
    "\n",
    "# Ejecutar la función\n",
    "contar_vocales_espacios()"
   ]
  },
  {
   "cell_type": "code",
   "execution_count": 8,
   "metadata": {},
   "outputs": [
    {
     "name": "stdout",
     "output_type": "stream",
     "text": [
      "\n",
      "Matriz Original:\n",
      "[55, 72]\n",
      "[53, 16]\n",
      "\n",
      "Matriz Transpuesta (como tupla):\n",
      "(55, 53)\n",
      "(72, 16)\n"
     ]
    },
    {
     "data": {
      "text/plain": [
       "((55, 53), (72, 16))"
      ]
     },
     "execution_count": 8,
     "metadata": {},
     "output_type": "execute_result"
    }
   ],
   "source": [
    "\n",
    "# todo: Resolución\n",
    "\n",
    "# ! 2\n",
    "def numeros_aleatorios():\n",
    "    import random\n",
    "    return random.randint(1, 100)\n",
    "\n",
    "def crear_matriz_transpuesta():\n",
    "    try:\n",
    "        # Pido dimensiones al usuario\n",
    "        filas = int(input(\"Introduce el número de filas (X): \"))\n",
    "        columnas = int(input(\"Introduce el número de columnas (Y): \"))\n",
    "        \n",
    "        # Valido que sean positivos\n",
    "        if filas <= 0 or columnas <= 0:\n",
    "            print(\"Por favor, introduce valores positivos para las dimensiones.\")\n",
    "            return\n",
    "        \n",
    "        # Creo la matriz con números aleatorios entre 1 y 100\n",
    "        matriz = []\n",
    "        for i in range(filas):\n",
    "            fila = []\n",
    "            for j in range(columnas):\n",
    "                fila.append(numeros_aleatorios())\n",
    "            matriz.append(fila)\n",
    "        \n",
    "        # Muestro la matriz original\n",
    "        print(\"\\nMatriz Original:\")\n",
    "        for fila in matriz:\n",
    "            print(fila)\n",
    "        \n",
    "        # Creo la matriz transpuesta\n",
    "        transpuesta = []\n",
    "        for j in range(columnas):\n",
    "            fila_transpuesta = []\n",
    "            for i in range(filas):\n",
    "                fila_transpuesta.append(matriz[i][j])\n",
    "            transpuesta.append(fila_transpuesta)\n",
    "        \n",
    "        # Convierto la transpuesta a tupla\n",
    "        tupla_transpuesta = tuple(tuple(fila) for fila in transpuesta)\n",
    "        \n",
    "        # Muestro la matriz transpuesta\n",
    "        print(\"\\nMatriz Transpuesta (como tupla):\")\n",
    "        for fila in tupla_transpuesta:\n",
    "            print(fila)\n",
    "            \n",
    "        return tupla_transpuesta\n",
    "    \n",
    "    except ValueError:\n",
    "        print(\"Error: Debes introducir valores enteros válidos.\")\n",
    "\n",
    "# Ejecutar la función\n",
    "crear_matriz_transpuesta()\n"
   ]
  },
  {
   "cell_type": "code",
   "execution_count": 13,
   "metadata": {},
   "outputs": [
    {
     "name": "stdout",
     "output_type": "stream",
     "text": [
      "Lista de precios: [50, 75, 46, 22, 80, 65, 8]\n",
      "\n",
      "El menor precio es: 8\n",
      "El mayor precio es: 80\n"
     ]
    }
   ],
   "source": [
    "\n",
    "# todo: Resolución\n",
    "\n",
    "# ! 3\n",
    "# Almaceno los precios en una lista\n",
    "precios = [50, 75, 46, 22, 80, 65, 8]\n",
    "\n",
    "print(f\"Lista de precios: {precios}\", end=\"\\n\\n\")\n",
    "\n",
    "# Encuentro el menor y el mayor precio\n",
    "menor_precio = precios[0]\n",
    "mayor_precio = precios[0]\n",
    "\n",
    "for precio in precios:\n",
    "    if precio < menor_precio:\n",
    "        menor_precio = precio\n",
    "    if precio > mayor_precio:\n",
    "        mayor_precio = precio\n",
    "\n",
    "# Muestro los resultados\n",
    "print(f\"El menor precio es: {menor_precio}\")\n",
    "print(f\"El mayor precio es: {mayor_precio}\")"
   ]
  },
  {
   "cell_type": "markdown",
   "metadata": {},
   "source": [
    "### 3. **Diccionarios**\n",
    "\n",
    "   - **Actividad 1**: Escribir un programa que cree un diccionario simulando una cesta de la compra. El programa debe preguntar el artículo y su precio y añadir el par al diccionario, hasta que el usuario decida terminar. Después se debe mostrar por pantalla la lista de la compra y el coste total, con el siguiente formato.\n",
    "\n",
    "   | arts  |precio |\n",
    "   |-------|-------|\n",
    "   |art 1  |1      |\n",
    "   |art 2  |2      |\n",
    "   |art 3  |3      |\n",
    "   |total  |6      |\n",
    "\n",
    "   - **Actividad 2**: Escribir un programa que cree un diccionario de traducción español-inglés. El usuario introducirá las palabras en español e inglés separadas por dos puntos, y cada par <palabra> : <traducción> separados por comas (es decir, solo se debe usar **UNA VEZ** la función input para la carga de palabras). El programa debe crear un diccionario con las palabras y sus traducciones. Después pedirá una frase en español y utilizará el diccionario para traducirla palabra a palabra. Si una palabra no está en el diccionario debe dejarla sin traducir.\n",
    "\n",
    "   - **Actividad 3**: Escribir un programa que reciba una cadena de caracteres y devuelva un diccionario con cada palabra que contiene y su frecuencia. Escribir otra función que reciba el diccionario generado con la función anterior y devuelva una tupla con la palabra más repetida y su frecuencia."
   ]
  },
  {
   "cell_type": "code",
   "execution_count": null,
   "metadata": {},
   "outputs": [
    {
     "name": "stdout",
     "output_type": "stream",
     "text": [
      "\n",
      "Lista de la compra:\n",
      "| arts  |precio |\n",
      "|-------|-------|\n",
      "|apple  |30.00  |\n",
      "|bananas|20.00  |\n",
      "|total  |50.00  |\n"
     ]
    }
   ],
   "source": [
    "\n",
    "# todo: Resolución\n",
    "\n",
    "# ! 1\n",
    "def cesta_de_compra():\n",
    "    cesta = {}\n",
    "    while True:\n",
    "        articulo = input(\"Introduce el artículo (o escribe 'terminar' para finalizar): \")\n",
    "        if articulo.lower() == 'terminar':\n",
    "            break\n",
    "        try:\n",
    "            precio = float(input(f\"Introduce el precio de '{articulo}': \"))\n",
    "            if precio < 0:\n",
    "                print(\"El precio no puede ser negativo. Inténtalo de nuevo.\")\n",
    "                continue\n",
    "            cesta[articulo] = precio\n",
    "        except ValueError:\n",
    "            print(\"Error: Debes introducir un precio válido.\")\n",
    "    \n",
    "    print(\"\\nLista de la compra:\")\n",
    "    print(\"| arts  |precio |\")\n",
    "    print(\"|-------|-------|\")\n",
    "    total = 0\n",
    "    for articulo, precio in cesta.items():\n",
    "        print(f\"|{articulo:<7}|{precio:<7.2f}|\")\n",
    "        total += precio\n",
    "    print(\"|total  |{:<7.2f}|\".format(total))\n",
    "\n",
    "# Ejecutar la función\n",
    "cesta_de_compra()\n"
   ]
  },
  {
   "cell_type": "code",
   "execution_count": 36,
   "metadata": {},
   "outputs": [
    {
     "name": "stdout",
     "output_type": "stream",
     "text": [
      "Frase traducida:\n",
      "hello mundo\n"
     ]
    }
   ],
   "source": [
    "\n",
    "# todo: Resolución\n",
    "\n",
    "# ! 2\n",
    "\n",
    "def diccionario_traduccion():\n",
    "    # Solicitar al usuario las palabras y sus traducciones\n",
    "    entrada = input(\"Introduce las palabras en formato 'español:inglés,español:inglés,...': \")\n",
    "    \n",
    "    # Crear el diccionario de traducción\n",
    "    traducciones = {}\n",
    "    pares = entrada.split(',')\n",
    "    for par in pares:\n",
    "        try:\n",
    "            espanol, ingles = par.split(':')\n",
    "            traducciones[espanol.strip()] = ingles.strip()\n",
    "        except ValueError:\n",
    "            print(f\"Formato incorrecto en el par: {par}. Se omitirá.\")\n",
    "    \n",
    "    # Solicitar una frase en español\n",
    "    frase = input(\"Introduce una frase en español: \")\n",
    "    \n",
    "    # Traducir la frase\n",
    "    palabras = frase.split()\n",
    "    frase_traducida = []\n",
    "    for palabra in palabras:\n",
    "        frase_traducida.append(traducciones.get(palabra, palabra))\n",
    "    \n",
    "    # Mostrar la frase traducida\n",
    "    print(\"Frase traducida:\")\n",
    "    print(\" \".join(frase_traducida))\n",
    "\n",
    "# Ejecutar la función\n",
    "diccionario_traduccion()"
   ]
  },
  {
   "cell_type": "code",
   "execution_count": 40,
   "metadata": {},
   "outputs": [
    {
     "name": "stdout",
     "output_type": "stream",
     "text": [
      "Frecuencias de palabras: {'hola': 1, 'mundo': 1}\n",
      "La palabra más repetida es 'hola' con una frecuencia de 1.\n"
     ]
    }
   ],
   "source": [
    "\n",
    "# todo: Resolución\n",
    "\n",
    "# ! 3\n",
    "\n",
    "def contar_palabras(cadena):\n",
    "    # Dividir la cadena en palabras\n",
    "    palabras = cadena.split()\n",
    "    # Crear un diccionario para contar las frecuencias\n",
    "    frecuencias = {}\n",
    "    for palabra in palabras:\n",
    "        palabra = palabra.lower()  # Convertir a minúsculas para evitar duplicados\n",
    "        frecuencias[palabra] = frecuencias.get(palabra, 0) + 1\n",
    "    return frecuencias\n",
    "\n",
    "def palabra_mas_repetida(frecuencias):\n",
    "    # Encontrar la palabra con mayor frecuencia\n",
    "    palabra, max_frecuencia = max(frecuencias.items(), key=lambda x: x[1])\n",
    "    return palabra, max_frecuencia\n",
    "\n",
    "# Ejemplo de uso\n",
    "cadena = input(\"Introduce una cadena de caracteres: \")\n",
    "frecuencias = contar_palabras(cadena)\n",
    "print(\"Frecuencias de palabras:\", frecuencias)\n",
    "\n",
    "palabra, frecuencia = palabra_mas_repetida(frecuencias)\n",
    "print(f\"La palabra más repetida es '{palabra}' con una frecuencia de {frecuencia}.\")\n",
    "\n"
   ]
  },
  {
   "cell_type": "markdown",
   "metadata": {},
   "source": [
    "### 4. **Funciones**\n",
    "\n",
    "- **Actividad 1**: Escribir una función que calcule el total de una factura tras aplicarle el IVA. La función debe recibir la cantidad sin IVA y el porcentaje de IVA a aplicar, y devolver el total de la factura. Si se invoca la función sin pasarle el porcentaje de IVA, deberá aplicar un 21%.\n",
    "\n",
    "- **Actividad 2**: Escribir una función que reciba un número entero positivo y devuelva su factorial.\n"
   ]
  },
  {
   "cell_type": "code",
   "execution_count": 44,
   "metadata": {},
   "outputs": [
    {
     "name": "stdout",
     "output_type": "stream",
     "text": [
      "El total de la factura con IVA es: 130.00\n"
     ]
    }
   ],
   "source": [
    "\n",
    "# todo: Resolución\n",
    "\n",
    "# ! 1\n",
    "\n",
    "def calcular_factura(cantidad_sin_iva, porcentaje_iva=21):\n",
    "    \"\"\"\n",
    "    Calcula el total de una factura tras aplicarle el IVA.\n",
    "\n",
    "    Args:\n",
    "        cantidad_sin_iva (float): Cantidad sin IVA.\n",
    "        porcentaje_iva (float, optional): Porcentaje de IVA a aplicar. Por defecto es 21%.\n",
    "\n",
    "    Returns:\n",
    "        float: Total de la factura con IVA.\n",
    "    \"\"\"\n",
    "    try:\n",
    "        if cantidad_sin_iva < 0:\n",
    "            raise ValueError(\"La cantidad sin IVA no puede ser negativa.\")\n",
    "        if porcentaje_iva < 0:\n",
    "            raise ValueError(\"El porcentaje de IVA no puede ser negativo.\")\n",
    "        \n",
    "        total = cantidad_sin_iva * (1 + porcentaje_iva / 100)\n",
    "        return total\n",
    "    except TypeError:\n",
    "        print(\"Error: Los valores deben ser numéricos.\")\n",
    "\n",
    "# Ejemplo de uso\n",
    "cantidad = float(input(\"Introduce la cantidad sin IVA: \"))\n",
    "iva = input(\"Introduce el porcentaje de IVA (opcional, presiona Enter para usar 21%): \")\n",
    "iva = float(iva) if iva else 21\n",
    "total_factura = calcular_factura(cantidad, iva)\n",
    "print(f\"El total de la factura con IVA es: {total_factura:.2f}\")"
   ]
  },
  {
   "cell_type": "code",
   "execution_count": 43,
   "metadata": {},
   "outputs": [
    {
     "name": "stdout",
     "output_type": "stream",
     "text": [
      "El factorial de 3 es: 6\n"
     ]
    }
   ],
   "source": [
    "\n",
    "# todo: Resolución\n",
    "\n",
    "# ! 2\n",
    "\n",
    "def calcular_factorial(numero):\n",
    "    \"\"\"\n",
    "    Calcula el factorial de un número entero positivo.\n",
    "\n",
    "    Args:\n",
    "        numero (int): Número entero positivo.\n",
    "\n",
    "    Returns:\n",
    "        int: Factorial del número.\n",
    "    \"\"\"\n",
    "    if numero < 0:\n",
    "        raise ValueError(\"El número debe ser un entero positivo.\")\n",
    "    if numero == 0 or numero == 1:\n",
    "        return 1\n",
    "    factorial = 1\n",
    "    for i in range(2, numero + 1):\n",
    "        factorial *= i\n",
    "    return factorial\n",
    "\n",
    "# Ejemplo de uso\n",
    "numero = int(input(\"Introduce un número entero positivo: \"))\n",
    "try:\n",
    "    resultado = calcular_factorial(numero)\n",
    "    print(f\"El factorial de {numero} es: {resultado}\")\n",
    "except ValueError as e:\n",
    "    print(e)\n"
   ]
  }
 ],
 "metadata": {
  "kernelspec": {
   "display_name": "sergio_valdez",
   "language": "python",
   "name": "python3"
  },
  "language_info": {
   "codemirror_mode": {
    "name": "ipython",
    "version": 3
   },
   "file_extension": ".py",
   "mimetype": "text/x-python",
   "name": "python",
   "nbconvert_exporter": "python",
   "pygments_lexer": "ipython3",
   "version": "3.13.2"
  }
 },
 "nbformat": 4,
 "nbformat_minor": 2
}
